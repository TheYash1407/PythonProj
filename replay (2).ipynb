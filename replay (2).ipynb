{
 "cells": [
  {
   "cell_type": "markdown",
   "metadata": {},
   "source": [
    "# Relay one model"
   ]
  },
  {
   "cell_type": "code",
   "execution_count": 1,
   "metadata": {},
   "outputs": [
    {
     "name": "stdout",
     "output_type": "stream",
     "text": [
      "pygame 2.5.2 (SDL 2.28.3, Python 3.10.1)\n",
      "Hello from the pygame community. https://www.pygame.org/contribute.html\n"
     ]
    },
    {
     "ename": "OSError",
     "evalue": "No file or directory found at models/128.h5",
     "output_type": "error",
     "traceback": [
      "\u001b[1;31m---------------------------------------------------------------------------\u001b[0m",
      "\u001b[1;31mOSError\u001b[0m                                   Traceback (most recent call last)",
      "\u001b[1;32mc:\\Users\\YASH\\Downloads\\replay.ipynb Cell 2\u001b[0m line \u001b[0;36m2\n\u001b[0;32m     <a href='vscode-notebook-cell:/c%3A/Users/YASH/Downloads/replay.ipynb#W1sZmlsZQ%3D%3D?line=17'>18</a>\u001b[0m agent \u001b[39m=\u001b[39m dqn\u001b[39m.\u001b[39mDQN(\n\u001b[0;32m     <a href='vscode-notebook-cell:/c%3A/Users/YASH/Downloads/replay.ipynb#W1sZmlsZQ%3D%3D?line=18'>19</a>\u001b[0m     state_shape\u001b[39m=\u001b[39menv\u001b[39m.\u001b[39mENVIRONMENT_SHAPE,\n\u001b[0;32m     <a href='vscode-notebook-cell:/c%3A/Users/YASH/Downloads/replay.ipynb#W1sZmlsZQ%3D%3D?line=19'>20</a>\u001b[0m     action_size\u001b[39m=\u001b[39menv\u001b[39m.\u001b[39mACTION_SPACE_SIZE\n\u001b[0;32m     <a href='vscode-notebook-cell:/c%3A/Users/YASH/Downloads/replay.ipynb#W1sZmlsZQ%3D%3D?line=20'>21</a>\u001b[0m )\n\u001b[0;32m     <a href='vscode-notebook-cell:/c%3A/Users/YASH/Downloads/replay.ipynb#W1sZmlsZQ%3D%3D?line=22'>23</a>\u001b[0m \u001b[39m# agent.load(f'models/{model}.h5')\u001b[39;00m\n\u001b[1;32m---> <a href='vscode-notebook-cell:/c%3A/Users/YASH/Downloads/replay.ipynb#W1sZmlsZQ%3D%3D?line=23'>24</a>\u001b[0m agent\u001b[39m.\u001b[39;49mload(\u001b[39mf\u001b[39;49m\u001b[39m'\u001b[39;49m\u001b[39m{\u001b[39;49;00mfolder\u001b[39m}\u001b[39;49;00m\u001b[39m/\u001b[39;49m\u001b[39m{\u001b[39;49;00mmodel\u001b[39m}\u001b[39;49;00m\u001b[39m.h5\u001b[39;49m\u001b[39m'\u001b[39;49m)\n\u001b[0;32m     <a href='vscode-notebook-cell:/c%3A/Users/YASH/Downloads/replay.ipynb#W1sZmlsZQ%3D%3D?line=25'>26</a>\u001b[0m state \u001b[39m=\u001b[39m env\u001b[39m.\u001b[39mreset()\n\u001b[0;32m     <a href='vscode-notebook-cell:/c%3A/Users/YASH/Downloads/replay.ipynb#W1sZmlsZQ%3D%3D?line=26'>27</a>\u001b[0m state \u001b[39m=\u001b[39m np\u001b[39m.\u001b[39mexpand_dims(state, axis\u001b[39m=\u001b[39m\u001b[39m0\u001b[39m)\n",
      "File \u001b[1;32mc:\\Users\\YASH\\Downloads\\dqn.py:142\u001b[0m, in \u001b[0;36mDQN.load\u001b[1;34m(self, name)\u001b[0m\n\u001b[0;32m    141\u001b[0m \u001b[39mdef\u001b[39;00m \u001b[39mload\u001b[39m(\u001b[39mself\u001b[39m, name):\n\u001b[1;32m--> 142\u001b[0m     \u001b[39mself\u001b[39m\u001b[39m.\u001b[39mmodel \u001b[39m=\u001b[39m tf\u001b[39m.\u001b[39;49mkeras\u001b[39m.\u001b[39;49mmodels\u001b[39m.\u001b[39;49mload_model(name)\n\u001b[0;32m    143\u001b[0m     \u001b[39mself\u001b[39m\u001b[39m.\u001b[39mtarget_model \u001b[39m=\u001b[39m tf\u001b[39m.\u001b[39mkeras\u001b[39m.\u001b[39mmodels\u001b[39m.\u001b[39mload_model(name)\n",
      "File \u001b[1;32mc:\\Users\\YASH\\AppData\\Local\\Programs\\Python\\Python310\\lib\\site-packages\\keras\\saving\\saving_api.py:212\u001b[0m, in \u001b[0;36mload_model\u001b[1;34m(filepath, custom_objects, compile, safe_mode, **kwargs)\u001b[0m\n\u001b[0;32m    204\u001b[0m     \u001b[39mreturn\u001b[39;00m saving_lib\u001b[39m.\u001b[39mload_model(\n\u001b[0;32m    205\u001b[0m         filepath,\n\u001b[0;32m    206\u001b[0m         custom_objects\u001b[39m=\u001b[39mcustom_objects,\n\u001b[0;32m    207\u001b[0m         \u001b[39mcompile\u001b[39m\u001b[39m=\u001b[39m\u001b[39mcompile\u001b[39m,\n\u001b[0;32m    208\u001b[0m         safe_mode\u001b[39m=\u001b[39msafe_mode,\n\u001b[0;32m    209\u001b[0m     )\n\u001b[0;32m    211\u001b[0m \u001b[39m# Legacy case.\u001b[39;00m\n\u001b[1;32m--> 212\u001b[0m \u001b[39mreturn\u001b[39;00m legacy_sm_saving_lib\u001b[39m.\u001b[39mload_model(\n\u001b[0;32m    213\u001b[0m     filepath, custom_objects\u001b[39m=\u001b[39mcustom_objects, \u001b[39mcompile\u001b[39m\u001b[39m=\u001b[39m\u001b[39mcompile\u001b[39m, \u001b[39m*\u001b[39m\u001b[39m*\u001b[39mkwargs\n\u001b[0;32m    214\u001b[0m )\n",
      "File \u001b[1;32mc:\\Users\\YASH\\AppData\\Local\\Programs\\Python\\Python310\\lib\\site-packages\\keras\\utils\\traceback_utils.py:70\u001b[0m, in \u001b[0;36mfilter_traceback.<locals>.error_handler\u001b[1;34m(*args, **kwargs)\u001b[0m\n\u001b[0;32m     67\u001b[0m     filtered_tb \u001b[39m=\u001b[39m _process_traceback_frames(e\u001b[39m.\u001b[39m__traceback__)\n\u001b[0;32m     68\u001b[0m     \u001b[39m# To get the full stack trace, call:\u001b[39;00m\n\u001b[0;32m     69\u001b[0m     \u001b[39m# `tf.debugging.disable_traceback_filtering()`\u001b[39;00m\n\u001b[1;32m---> 70\u001b[0m     \u001b[39mraise\u001b[39;00m e\u001b[39m.\u001b[39mwith_traceback(filtered_tb) \u001b[39mfrom\u001b[39;00m \u001b[39mNone\u001b[39;00m\n\u001b[0;32m     71\u001b[0m \u001b[39mfinally\u001b[39;00m:\n\u001b[0;32m     72\u001b[0m     \u001b[39mdel\u001b[39;00m filtered_tb\n",
      "File \u001b[1;32mc:\\Users\\YASH\\AppData\\Local\\Programs\\Python\\Python310\\lib\\site-packages\\keras\\saving\\legacy\\save.py:230\u001b[0m, in \u001b[0;36mload_model\u001b[1;34m(filepath, custom_objects, compile, options)\u001b[0m\n\u001b[0;32m    228\u001b[0m \u001b[39mif\u001b[39;00m \u001b[39misinstance\u001b[39m(filepath_str, \u001b[39mstr\u001b[39m):\n\u001b[0;32m    229\u001b[0m     \u001b[39mif\u001b[39;00m \u001b[39mnot\u001b[39;00m tf\u001b[39m.\u001b[39mio\u001b[39m.\u001b[39mgfile\u001b[39m.\u001b[39mexists(filepath_str):\n\u001b[1;32m--> 230\u001b[0m         \u001b[39mraise\u001b[39;00m \u001b[39mIOError\u001b[39;00m(\n\u001b[0;32m    231\u001b[0m             \u001b[39mf\u001b[39m\u001b[39m\"\u001b[39m\u001b[39mNo file or directory found at \u001b[39m\u001b[39m{\u001b[39;00mfilepath_str\u001b[39m}\u001b[39;00m\u001b[39m\"\u001b[39m\n\u001b[0;32m    232\u001b[0m         )\n\u001b[0;32m    234\u001b[0m     \u001b[39mif\u001b[39;00m tf\u001b[39m.\u001b[39mio\u001b[39m.\u001b[39mgfile\u001b[39m.\u001b[39misdir(filepath_str):\n\u001b[0;32m    235\u001b[0m         \u001b[39mreturn\u001b[39;00m saved_model_load\u001b[39m.\u001b[39mload(\n\u001b[0;32m    236\u001b[0m             filepath_str, \u001b[39mcompile\u001b[39m, options\n\u001b[0;32m    237\u001b[0m         )\n",
      "\u001b[1;31mOSError\u001b[0m: No file or directory found at models/128.h5"
     ]
    }
   ],
   "source": [
    "import numpy as np\n",
    "import os\n",
    "\n",
    "import game\n",
    "import dqn\n",
    "\n",
    "import importlib\n",
    "importlib.reload(game)\n",
    "importlib.reload(dqn)\n",
    "\n",
    "model = 128\n",
    "folder = 'models'\n",
    "\n",
    "record_video = False\n",
    "\n",
    "env = game.Environment()\n",
    "\n",
    "agent = dqn.DQN(\n",
    "    state_shape=env.ENVIRONMENT_SHAPE,\n",
    "    action_size=env.ACTION_SPACE_SIZE\n",
    ")\n",
    "\n",
    "# agent.load(f'models/{model}.h5')\n",
    "agent.load(f'models/{model}.h5')\n",
    "\n",
    "state = env.reset()\n",
    "state = np.expand_dims(state, axis=0)\n",
    "\n",
    "import pygame\n",
    "pygame.init()\n",
    "screen = pygame.display.set_mode((env.WINDOW_WIDTH, env.WINDOW_HEIGHT))\n",
    "clock = pygame.time.Clock()\n",
    "running = True\n",
    "score = 0\n",
    "\n",
    "import record\n",
    "recorder = None\n",
    "if record_video:\n",
    "    recorder = record.ScreenRecorder(env.WINDOW_WIDTH, env.WINDOW_HEIGHT, env.FPS, f\"{folder}_{model}.avi\")\n",
    "\n",
    "while running:\n",
    "\n",
    "    pygame.display.set_caption(f\"Score: {score}\")\n",
    "\n",
    "    for event in pygame.event.get():\n",
    "        if event.type == pygame.QUIT:\n",
    "            running = False\n",
    "\n",
    "    action = agent.act(state, 0)\n",
    "    state, reward, done, score = env.step(action)\n",
    "    state = np.expand_dims(state, axis=0)\n",
    "\n",
    "    env.render(screen)\n",
    "    pygame.display.flip()\n",
    "    clock.tick(15)\n",
    "\n",
    "    if record_video:\n",
    "        recorder.capture_frame(screen)\n",
    "\n",
    "pygame.quit()\n",
    "if record_video:\n",
    "    recorder.end_recording()"
   ]
  },
  {
   "cell_type": "markdown",
   "metadata": {},
   "source": [
    "# Record 3 models at once"
   ]
  },
  {
   "cell_type": "code",
   "execution_count": 57,
   "metadata": {},
   "outputs": [
    {
     "name": "stdout",
     "output_type": "stream",
     "text": [
      "Initializing ScreenRecorder with parameters width:1100 height:360 fps:15.\n",
      "Output of the screen recording saved to models_comparison.avi.\n"
     ]
    }
   ],
   "source": [
    "import numpy as np\n",
    "\n",
    "import game\n",
    "import dqn\n",
    "\n",
    "import importlib\n",
    "importlib.reload(game)\n",
    "importlib.reload(dqn)\n",
    "\n",
    "models = [-1, 50, 128]\n",
    "folder = 'models'\n",
    "\n",
    "agents = []\n",
    "envs = []\n",
    "states = []\n",
    "scores = [0 for m in models]\n",
    "\n",
    "for model in models:\n",
    "    env = game.Environment()\n",
    "    agent = dqn.DQN(\n",
    "        state_shape=env.ENVIRONMENT_SHAPE,\n",
    "        action_size=env.ACTION_SPACE_SIZE\n",
    "    )\n",
    "    agent.load(f'{folder}/{model}.h5')\n",
    "\n",
    "    state = env.reset()\n",
    "    state = np.expand_dims(state, axis=0)\n",
    "\n",
    "    agents.append(agent)\n",
    "    envs.append(env)\n",
    "    states.append(state)\n",
    "\n",
    "padding = 10\n",
    "\n",
    "env = envs[0]\n",
    "\n",
    "import pygame\n",
    "pygame.init()\n",
    "screen = pygame.display.set_mode((env.WINDOW_WIDTH * len(models) + (padding * (len(models) - 1)), env.WINDOW_HEIGHT))\n",
    "pygame.display.set_caption(f\"Models: {models}\")\n",
    "font = pygame.font.SysFont(None, 36)\n",
    "clock = pygame.time.Clock()\n",
    "running = True\n",
    "\n",
    "record_video = True\n",
    "\n",
    "import record\n",
    "recorder = None\n",
    "if record_video:\n",
    "    recorder = record.ScreenRecorder(env.WINDOW_WIDTH * len(models) + (padding * (len(models) - 1)), env.WINDOW_HEIGHT, 15, f\"{folder}_comparison.avi\")\n",
    "\n",
    "MAX_TICKS = 2000\n",
    "\n",
    "tick = 0\n",
    "while running:\n",
    "\n",
    "    screen.fill(\"white\")\n",
    "\n",
    "    for event in pygame.event.get():\n",
    "        if event.type == pygame.QUIT:\n",
    "            running = False\n",
    "\n",
    "    for m, model in enumerate(models):\n",
    "\n",
    "        x_offset = m * (env.WINDOW_WIDTH + padding)\n",
    "\n",
    "        action = agents[m].act(states[m], 0)\n",
    "        state, reward, done, scores[m] = envs[m].step(action)\n",
    "        states[m] = np.expand_dims(state, axis=0)\n",
    "\n",
    "        envs[m].render(screen, solo=False, x_offset=x_offset)\n",
    "\n",
    "        text_surface = font.render(f\"{scores[m]}\", True, (50, 50, 50))\n",
    "        screen.blit(text_surface, (int(x_offset + env.WINDOW_WIDTH / 2) - 10, 20))\n",
    "\n",
    "    # black bars\n",
    "    for i in range(1, len(models)):\n",
    "        x_offset = i * (env.WINDOW_WIDTH + padding)\n",
    "        pygame.draw.rect(\n",
    "            screen,\n",
    "            \"black\",\n",
    "            ((x_offset + padding, 0), (padding, env.WINDOW_HEIGHT))\n",
    "        )\n",
    "    \n",
    "    pygame.display.flip()\n",
    "    clock.tick(30)\n",
    "\n",
    "    if record_video:\n",
    "        recorder.capture_frame(screen)\n",
    "\n",
    "    tick += 1\n",
    "\n",
    "    if tick >= MAX_TICKS:\n",
    "        running = False\n",
    "\n",
    "pygame.quit()\n",
    "if record_video:\n",
    "    recorder.end_recording()"
   ]
  },
  {
   "cell_type": "code",
   "execution_count": 54,
   "metadata": {},
   "outputs": [
    {
     "name": "stdout",
     "output_type": "stream",
     "text": [
      "[[0. 0. 0. 0. 0. 0. 0. 0. 0. 0. 0. 0.]\n",
      " [0. 0. 0. 0. 0. 0. 0. 0. 0. 0. 0. 0.]\n",
      " [0. 0. 0. 0. 0. 0. 0. 0. 0. 0. 0. 0.]\n",
      " [0. 0. 0. 0. 0. 0. 0. 0. 0. 0. 0. 0.]\n",
      " [0. 0. 0. 0. 0. 0. 0. 0. 1. 0. 0. 0.]\n",
      " [0. 0. 0. 0. 0. 0. 0. 0. 0. 0. 0. 0.]\n",
      " [0. 0. 0. 0. 0. 0. 0. 0. 0. 0. 0. 0.]\n",
      " [0. 0. 0. 0. 0. 0. 0. 0. 0. 0. 0. 0.]\n",
      " [0. 0. 0. 0. 0. 0. 0. 0. 0. 0. 0. 0.]\n",
      " [0. 0. 0. 0. 0. 0. 0. 0. 0. 0. 0. 0.]\n",
      " [0. 0. 0. 1. 0. 0. 0. 0. 0. 0. 0. 0.]\n",
      " [0. 0. 0. 0. 2. 2. 0. 0. 0. 0. 0. 0.]]\n"
     ]
    }
   ],
   "source": [
    "print(envs[0].field.body)"
   ]
  },
  {
   "cell_type": "code",
   "execution_count": 55,
   "metadata": {},
   "outputs": [
    {
     "data": {
      "text/plain": [
       "<matplotlib.image.AxesImage at 0x195c72205e0>"
      ]
     },
     "execution_count": 55,
     "metadata": {},
     "output_type": "execute_result"
    },
    {
     "data": {
      "image/png": "[encoded data removed]",
      "text/plain": [
       "<Figure size 640x480 with 1 Axes>"
      ]
     },
     "metadata": {},
     "output_type": "display_data"
    }
   ],
   "source": [
    "import matplotlib.pyplot as plt\n",
    "\n",
    "plt.imshow(envs[0].field.body)"
   ]
  }
 ],
 "metadata": {
  "kernelspec": {
   "display_name": "Python 3",
   "language": "python",
   "name": "python3"
  },
  "language_info": {
   "codemirror_mode": {
    "name": "ipython",
    "version": 3
   },
   "file_extension": ".py",
   "mimetype": "text/x-python",
   "name": "python",
   "nbconvert_exporter": "python",
   "pygments_lexer": "ipython3",
   "version": "3.10.1"
  },
  "orig_nbformat": 4
 },
 "nbformat": 4,
 "nbformat_minor": 2
}
